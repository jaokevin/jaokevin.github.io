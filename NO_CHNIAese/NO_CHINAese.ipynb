{
 "cells": [
  {
   "cell_type": "code",
   "execution_count": null,
   "metadata": {},
   "outputs": [
    {
     "name": "stdout",
     "output_type": "stream",
     "text": [
      "c8 c8 \n",
      "-----\n",
      "本服務基於繁化姬API，禁止商業使用。繁化姬官網：https://zhconvert.org/\n"
     ]
    }
   ],
   "source": [
    "import requests\n",
    "\n",
    "input_text = input(\"請輸入要台灣化的文字\")\n",
    "\n",
    "# 基礎URL\n",
    "base_url = \"https://api.zhconvert.org/convert\"\n",
    "\n",
    "# 請求參數\n",
    "params = {\n",
    "    'text': input_text,\n",
    "    'converter': 'Taiwan'\n",
    "}\n",
    "\n",
    "# 發送POST請求，並將參數添加到URL中\n",
    "response = requests.post(base_url, params=params)\n",
    "\n",
    "# 處理回應\n",
    "if response.status_code == 200:\n",
    "    data = response.json()\n",
    "    # print(data)\n",
    "else:\n",
    "    print(f\"請求失敗，狀態碼：{response.status_code}\")\n",
    "\n",
    "outcome = data['data']['text']\n",
    "print(outcome, \"\\n\", '-----', '\\n', '本服務基於繁化姬API，禁止商業使用。繁化姬官網：https://zhconvert.org/', sep='')"
   ]
  }
 ],
 "metadata": {
  "kernelspec": {
   "display_name": "Python 3",
   "language": "python",
   "name": "python3"
  },
  "language_info": {
   "codemirror_mode": {
    "name": "ipython",
    "version": 3
   },
   "file_extension": ".py",
   "mimetype": "text/x-python",
   "name": "python",
   "nbconvert_exporter": "python",
   "pygments_lexer": "ipython3",
   "version": "3.9.10"
  }
 },
 "nbformat": 4,
 "nbformat_minor": 2
}
